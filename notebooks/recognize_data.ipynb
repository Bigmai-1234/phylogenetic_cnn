{
 "cells": [
  {
   "cell_type": "code",
   "execution_count": 1,
   "id": "8f2991ec-bff1-4321-88a7-e51fea0e904f",
   "metadata": {},
   "outputs": [],
   "source": [
    "import pandas as pd\n",
    "import numpy as np"
   ]
  },
  {
   "cell_type": "code",
   "execution_count": 2,
   "id": "46638b4e-9ffd-4b74-ad4b-f8caf8f6706b",
   "metadata": {},
   "outputs": [],
   "source": [
    "Xs = pd.read_csv('../datasets/ibd_dataset/HS_CDf/Sokol_16S_taxa_HS_CDf_commsamp_training.txt',\n",
    "                 sep='\\t',index_col = 0)"
   ]
  },
  {
   "cell_type": "code",
   "execution_count": 4,
   "id": "84dc2ded-c34f-4d56-b59b-db87f0e5fed0",
   "metadata": {},
   "outputs": [
    {
     "data": {
      "text/plain": [
       "Index(['k__Archaea.p__Euryarchaeota.c__Methanobacteria.o__Methanobacteriales.f__Methanobacteriaceae.g__Methanobrevibacter',\n",
       "       'k__Archaea.p__Euryarchaeota.c__Methanobacteria.o__Methanobacteriales.f__Methanobacteriaceae.g__Methanosphaera',\n",
       "       'k__Bacteria.Other.Other.Other.Other.Other',\n",
       "       'k__Bacteria.p__Actinobacteria.c__Actinobacteria.o__Actinomycetales.f__Actinomycetaceae.g__Actinomyces',\n",
       "       'k__Bacteria.p__Actinobacteria.c__Actinobacteria.o__Actinomycetales.f__Actinomycetaceae.g__Mobiluncus',\n",
       "       'k__Bacteria.p__Actinobacteria.c__Actinobacteria.o__Actinomycetales.f__Actinomycetaceae.g__Varibaculum',\n",
       "       'k__Bacteria.p__Actinobacteria.c__Actinobacteria.o__Actinomycetales.f__Brevibacteriaceae.g__Brevibacterium',\n",
       "       'k__Bacteria.p__Actinobacteria.c__Actinobacteria.o__Actinomycetales.f__Corynebacteriaceae.g__Corynebacterium',\n",
       "       'k__Bacteria.p__Actinobacteria.c__Actinobacteria.o__Actinomycetales.f__Microbacteriaceae.Other',\n",
       "       'k__Bacteria.p__Actinobacteria.c__Actinobacteria.o__Actinomycetales.f__Microbacteriaceae.g__Leucobacter',\n",
       "       ...\n",
       "       'k__Bacteria.p__Proteobacteria.c__Gammaproteobacteria.o__Xanthomonadales.f__Xanthomonadaceae.g__Stenotrophomonas',\n",
       "       'k__Bacteria.p__Synergistetes.c__Synergistia.o__Synergistales.f__Dethiosulfovibrionaceae.g__Pyramidobacter',\n",
       "       'k__Bacteria.p__Synergistetes.c__Synergistia.o__Synergistales.f__Synergistaceae.Other',\n",
       "       'k__Bacteria.p__Synergistetes.c__Synergistia.o__Synergistales.f__Synergistaceae.g__',\n",
       "       'k__Bacteria.p__Tenericutes.c__Mollicutes.o__Acholeplasmatales.f__Acholeplasmataceae.g__Acholeplasma',\n",
       "       'k__Bacteria.p__Tenericutes.c__Mollicutes.o__Anaeroplasmatales.f__Anaeroplasmataceae.g__',\n",
       "       'k__Bacteria.p__Tenericutes.c__Mollicutes.o__RF39.f__.g__',\n",
       "       'k__Bacteria.p__Tenericutes.c__RF3.o__ML615J.28.f__.g__',\n",
       "       'k__Bacteria.p__Verrucomicrobia.c__Opitutae.o__.Cerasicoccales..f__.Cerasicoccaceae..g__',\n",
       "       'k__Bacteria.p__Verrucomicrobia.c__Verrucomicrobiae.o__Verrucomicrobiales.f__Verrucomicrobiaceae.g__Akkermansia'],\n",
       "      dtype='object', length=259)"
      ]
     },
     "execution_count": 4,
     "metadata": {},
     "output_type": "execute_result"
    }
   ],
   "source": [
    "Xs.columns"
   ]
  },
  {
   "cell_type": "code",
   "execution_count": 5,
   "id": "15966df0-8379-404f-8b67-2a10d5627fa3",
   "metadata": {},
   "outputs": [],
   "source": [
    "y = np.loadtxt('../datasets/ibd_dataset/HS_CDf/Sokol_16S_taxa_HS_CDf_commsamp_training_lab.txt', dtype=np.int)"
   ]
  },
  {
   "cell_type": "code",
   "execution_count": 6,
   "id": "d71d8097-6aab-490a-8f11-b2407c20f94d",
   "metadata": {},
   "outputs": [
    {
     "data": {
      "text/plain": [
       "array([0, 0, 0, 0, 0, 0, 0, 0, 0, 0, 0, 0, 0, 0, 0, 0, 0, 0, 0, 0, 0, 0,\n",
       "       0, 0, 0, 0, 0, 1, 1, 1, 1, 1, 1, 1, 1, 1, 1, 1, 1, 1, 1, 1, 1, 1,\n",
       "       1, 1, 1, 1, 1, 1, 1, 1, 1, 1, 1, 1, 1, 1, 1, 1, 1, 1, 1, 1, 1, 1,\n",
       "       1, 1, 1])"
      ]
     },
     "execution_count": 6,
     "metadata": {},
     "output_type": "execute_result"
    }
   ],
   "source": [
    "y"
   ]
  },
  {
   "cell_type": "code",
   "execution_count": 9,
   "id": "5333f929-2373-4b07-8d61-a606a516ea26",
   "metadata": {},
   "outputs": [],
   "source": [
    "C = pd.read_csv('../datasets/coordinates/coordinates_cdf.txt',\n",
    "                sep='\\t', header=0, index_col=0)"
   ]
  },
  {
   "cell_type": "code",
   "execution_count": 11,
   "id": "f0245b9b-11a9-4b9f-949a-cabfe8baba4e",
   "metadata": {},
   "outputs": [
    {
     "data": {
      "text/plain": [
       "Index(['k__Archaea.p__Euryarchaeota.c__Methanobacteria.o__Methanobacteriales.f__Methanobacteriaceae.g__Methanobrevibacter',\n",
       "       'k__Archaea.p__Euryarchaeota.c__Methanobacteria.o__Methanobacteriales.f__Methanobacteriaceae.g__Methanosphaera',\n",
       "       'k__Bacteria.Other.Other.Other.Other.Other',\n",
       "       'k__Bacteria.p__Actinobacteria.c__Actinobacteria.o__Actinomycetales.f__Actinomycetaceae.g__Actinomyces',\n",
       "       'k__Bacteria.p__Actinobacteria.c__Actinobacteria.o__Actinomycetales.f__Actinomycetaceae.g__Mobiluncus',\n",
       "       'k__Bacteria.p__Actinobacteria.c__Actinobacteria.o__Actinomycetales.f__Actinomycetaceae.g__Varibaculum',\n",
       "       'k__Bacteria.p__Actinobacteria.c__Actinobacteria.o__Actinomycetales.f__Brevibacteriaceae.g__Brevibacterium',\n",
       "       'k__Bacteria.p__Actinobacteria.c__Actinobacteria.o__Actinomycetales.f__Corynebacteriaceae.g__Corynebacterium',\n",
       "       'k__Bacteria.p__Actinobacteria.c__Actinobacteria.o__Actinomycetales.f__Microbacteriaceae.Other',\n",
       "       'k__Bacteria.p__Actinobacteria.c__Actinobacteria.o__Actinomycetales.f__Microbacteriaceae.g__Leucobacter',\n",
       "       ...\n",
       "       'k__Bacteria.p__Proteobacteria.c__Gammaproteobacteria.o__Xanthomonadales.f__Xanthomonadaceae.g__Stenotrophomonas',\n",
       "       'k__Bacteria.p__Synergistetes.c__Synergistia.o__Synergistales.f__Dethiosulfovibrionaceae.g__Pyramidobacter',\n",
       "       'k__Bacteria.p__Synergistetes.c__Synergistia.o__Synergistales.f__Synergistaceae.Other',\n",
       "       'k__Bacteria.p__Synergistetes.c__Synergistia.o__Synergistales.f__Synergistaceae.g__',\n",
       "       'k__Bacteria.p__Tenericutes.c__Mollicutes.o__Acholeplasmatales.f__Acholeplasmataceae.g__Acholeplasma',\n",
       "       'k__Bacteria.p__Tenericutes.c__Mollicutes.o__Anaeroplasmatales.f__Anaeroplasmataceae.g__',\n",
       "       'k__Bacteria.p__Tenericutes.c__Mollicutes.o__RF39.f__.g__',\n",
       "       'k__Bacteria.p__Tenericutes.c__RF3.o__ML615J.28.f__.g__',\n",
       "       'k__Bacteria.p__Verrucomicrobia.c__Opitutae.o__.Cerasicoccales..f__.Cerasicoccaceae..g__',\n",
       "       'k__Bacteria.p__Verrucomicrobia.c__Verrucomicrobiae.o__Verrucomicrobiales.f__Verrucomicrobiaceae.g__Akkermansia'],\n",
       "      dtype='object', length=259)"
      ]
     },
     "execution_count": 11,
     "metadata": {},
     "output_type": "execute_result"
    }
   ],
   "source": [
    "C.columns"
   ]
  },
  {
   "cell_type": "code",
   "execution_count": null,
   "id": "e5f1954b-b525-4a27-b8e6-556b0bdb9f0f",
   "metadata": {},
   "outputs": [],
   "source": []
  }
 ],
 "metadata": {
  "kernelspec": {
   "display_name": "xbiome",
   "language": "python",
   "name": "xbiome"
  },
  "language_info": {
   "codemirror_mode": {
    "name": "ipython",
    "version": 3
   },
   "file_extension": ".py",
   "mimetype": "text/x-python",
   "name": "python",
   "nbconvert_exporter": "python",
   "pygments_lexer": "ipython3",
   "version": "3.6.13"
  }
 },
 "nbformat": 4,
 "nbformat_minor": 5
}
