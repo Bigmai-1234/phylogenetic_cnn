{
 "cells": [
  {
   "cell_type": "code",
   "execution_count": 2,
   "id": "8f2991ec-bff1-4321-88a7-e51fea0e904f",
   "metadata": {},
   "outputs": [],
   "source": [
    "import pandas as pd\n",
    "import numpy as np"
   ]
  },
  {
   "cell_type": "code",
   "execution_count": 10,
   "id": "46638b4e-9ffd-4b74-ad4b-f8caf8f6706b",
   "metadata": {},
   "outputs": [],
   "source": [
    "data_file = 'D:\\\\zhengjia\\\\0000_routines\\\\personal\\\\xbiome\\\\work\\\\20211122\\\\phylogenetic-cnn-master\\\\datasets\\\\ibd_dataset\\\\HS_CDf\\\\Sokol_16S_taxa_HS_CDf_commsamp_test.txt'\n",
    "\n",
    "Xs = pd.read_csv(data_file,sep='\\t',index_col = 0)"
   ]
  },
  {
   "cell_type": "code",
   "execution_count": 11,
   "id": "84dc2ded-c34f-4d56-b59b-db87f0e5fed0",
   "metadata": {},
   "outputs": [
    {
     "data": {
      "text/plain": [
       "(29, 259)"
      ]
     },
     "execution_count": 11,
     "metadata": {},
     "output_type": "execute_result"
    }
   ],
   "source": [
    "Xs.shape"
   ]
  },
  {
   "cell_type": "code",
   "execution_count": 12,
   "id": "15966df0-8379-404f-8b67-2a10d5627fa3",
   "metadata": {},
   "outputs": [
    {
     "data": {
      "text/plain": [
       "(29,)"
      ]
     },
     "execution_count": 12,
     "metadata": {},
     "output_type": "execute_result"
    }
   ],
   "source": [
    "labels_datafile = 'D:\\\\zhengjia\\\\0000_routines\\\\personal\\\\xbiome\\\\work\\\\20211122\\\\phylogenetic-cnn-master\\\\datasets\\\\ibd_dataset\\\\HS_CDf\\\\Sokol_16S_taxa_HS_CDf_commsamp_test_lab.txt'\n",
    "y = np.loadtxt(labels_datafile, dtype=np.int)\n",
    "y.shape"
   ]
  },
  {
   "cell_type": "code",
   "execution_count": null,
   "id": "d71d8097-6aab-490a-8f11-b2407c20f94d",
   "metadata": {},
   "outputs": [],
   "source": [
    "y"
   ]
  },
  {
   "cell_type": "code",
   "execution_count": null,
   "id": "5333f929-2373-4b07-8d61-a606a516ea26",
   "metadata": {},
   "outputs": [],
   "source": []
  },
  {
   "cell_type": "code",
   "execution_count": null,
   "id": "f0245b9b-11a9-4b9f-949a-cabfe8baba4e",
   "metadata": {},
   "outputs": [],
   "source": []
  },
  {
   "cell_type": "code",
   "execution_count": null,
   "id": "e5f1954b-b525-4a27-b8e6-556b0bdb9f0f",
   "metadata": {},
   "outputs": [],
   "source": []
  }
 ],
 "metadata": {
  "kernelspec": {
   "display_name": "xbiome",
   "language": "python",
   "name": "xbiome"
  },
  "language_info": {
   "codemirror_mode": {
    "name": "ipython",
    "version": 3
   },
   "file_extension": ".py",
   "mimetype": "text/x-python",
   "name": "python",
   "nbconvert_exporter": "python",
   "pygments_lexer": "ipython3",
   "version": "3.6.13"
  }
 },
 "nbformat": 4,
 "nbformat_minor": 5
}
